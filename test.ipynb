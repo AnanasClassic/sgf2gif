{
 "cells": [
  {
   "cell_type": "code",
   "execution_count": 1,
   "id": "initial_id",
   "metadata": {
    "collapsed": true,
    "ExecuteTime": {
     "end_time": "2024-08-04T22:18:44.824522Z",
     "start_time": "2024-08-04T22:18:44.796872Z"
    }
   },
   "outputs": [],
   "source": [
    "import sente\n",
    "from tqdm import tqdm\n",
    "import warnings"
   ]
  },
  {
   "cell_type": "code",
   "execution_count": 2,
   "outputs": [],
   "source": [
    "warnings.filterwarnings(\"ignore\")"
   ],
   "metadata": {
    "collapsed": false,
    "ExecuteTime": {
     "end_time": "2024-08-04T22:18:44.836522Z",
     "start_time": "2024-08-04T22:18:44.821525900Z"
    }
   },
   "id": "2ac97c506ab31c6a"
  },
  {
   "cell_type": "code",
   "execution_count": 3,
   "outputs": [],
   "source": [
    "def game_to_arr(game):\n",
    "    size = int(game.get_properties()[\"SZ\"])\n",
    "    arr = [[0 for _ in range(size)] for _ in range(size)]\n",
    "    rows = str(game).split(\"\\n\")[:-1]\n",
    "    for i in range(size):\n",
    "        iter = 0\n",
    "        for ch in rows[i]:\n",
    "            if ch == '.' or ch == '*':\n",
    "                iter += 1\n",
    "            elif ch == '⚪':\n",
    "                arr[i][iter] = -1\n",
    "                iter += 1\n",
    "            elif ch == '⚫':\n",
    "                arr[i][iter] = 1\n",
    "                iter += 1\n",
    "    return arr\n",
    "        "
   ],
   "metadata": {
    "collapsed": false,
    "ExecuteTime": {
     "end_time": "2024-08-04T22:18:44.852748700Z",
     "start_time": "2024-08-04T22:18:44.838523800Z"
    }
   },
   "id": "d9632a9e85a0276e"
  },
  {
   "cell_type": "code",
   "execution_count": 4,
   "outputs": [],
   "source": [
    "def draw_board(fig, ax, board):\n",
    "    size = len(board)\n",
    "    ax.set_facecolor(\"tan\")\n",
    "    ax.imshow(np.ones_like(board) * 0.5, alpha=0, cmap=\"grey\", extent=[-1.5, size + 0.5, size + 0.5, -1.5])\n",
    "    \n",
    "    for i in range(size):\n",
    "        for j in range(size):\n",
    "            if i < size - 1:\n",
    "                ax.plot([j, j], [i, i + 1], color=\"black\", lw=1)\n",
    "            if j < size - 1:\n",
    "                ax.plot([j, j + 1], [i, i], color=\"black\", lw=1)\n",
    "    \n",
    "    points = {\n",
    "        9: ([2, 2, 4, 6, 6], [2, 6, 4, 2, 6]),\n",
    "        13: ([3, 3, 6, 9, 9], [3, 9, 6, 3, 9]),\n",
    "        19: ([3, 3, 3, 9, 9, 9, 15, 15, 15], [3, 9, 15, 3, 9, 15, 3, 9, 15]),\n",
    "    }\n",
    "    \n",
    "    if size in points.keys():\n",
    "        for i in range(len(points[size][0])):\n",
    "            ax.plot(points[size][0], points[size][1], 'o', color=\"black\", lw=3)\n",
    "        "
   ],
   "metadata": {
    "collapsed": false,
    "ExecuteTime": {
     "end_time": "2024-08-04T22:18:44.869441600Z",
     "start_time": "2024-08-04T22:18:44.858596900Z"
    }
   },
   "id": "5fe342c7c565dbfe"
  },
  {
   "cell_type": "code",
   "execution_count": 5,
   "outputs": [],
   "source": [
    "import matplotlib.pyplot as plt\n",
    "import numpy as np\n",
    "import imageio\n",
    "from PIL import Image\n",
    "\n",
    "def draw_go_board(board):\n",
    "    size = len(board)\n",
    "\n",
    "    fig, ax = plt.subplots(figsize=(size / 2, size / 2))\n",
    "    \n",
    "    draw_board(fig, ax, board)\n",
    "\n",
    "    # Добавляем камни\n",
    "    for i in range(size):\n",
    "        for j in range(size):\n",
    "            if board[i][j] == 1:\n",
    "                ax.plot(j, i, \"ko\", markersize=19)\n",
    "            elif board[i][j] == -1:\n",
    "                ax.plot(j, i, \"wo\", markersize=19, markeredgecolor=\"black\", markeredgewidth=1)\n",
    "\n",
    "    # Убираем оси\n",
    "    ax.set_xticks([])\n",
    "    ax.set_yticks([])\n",
    "    ax.set_aspect(\"equal\")\n",
    "\n",
    "    plt.gca().invert_xaxis()\n",
    "    fig.canvas.draw()\n",
    "    \n",
    "    image = np.frombuffer(fig.canvas.tostring_rgb(), dtype=np.uint8)\n",
    "    image = image.reshape(fig.canvas.get_width_height()[::-1] + (3,))\n",
    "    \n",
    "    plt.close(fig)\n",
    "    return image"
   ],
   "metadata": {
    "collapsed": false,
    "ExecuteTime": {
     "end_time": "2024-08-04T22:18:45.349198Z",
     "start_time": "2024-08-04T22:18:44.873447300Z"
    }
   },
   "id": "58b96c0c7bcac5ed"
  },
  {
   "cell_type": "code",
   "execution_count": 6,
   "outputs": [],
   "source": [
    "def pos_to_image(game):\n",
    "    arr = game_to_arr(game)\n",
    "    return draw_go_board(arr)"
   ],
   "metadata": {
    "collapsed": false,
    "ExecuteTime": {
     "end_time": "2024-08-04T22:18:45.365075Z",
     "start_time": "2024-08-04T22:18:45.350200Z"
    }
   },
   "id": "23571b23d7d85a3e"
  },
  {
   "cell_type": "code",
   "execution_count": 7,
   "outputs": [],
   "source": [
    "import os.path as osp\n",
    "def sgf_to_gif(sgf_file):\n",
    "    game = sente.sgf.load(sgf_file)\n",
    "    name = osp.splitext(osp.basename(sgf_file))[0]\n",
    "    print(name)\n",
    "    images = []\n",
    "    moves = game.get_default_sequence()\n",
    "    images.append(pos_to_image(game))\n",
    "    for move in tqdm(moves):\n",
    "        game.play(move)\n",
    "        images.append(pos_to_image(game))\n",
    "    imageio.mimsave(f'./gif/{name}.gif', images, fps=3)\n",
    "    print(f\"GIF successfully saved as '{name}.gif'\")"
   ],
   "metadata": {
    "collapsed": false,
    "ExecuteTime": {
     "end_time": "2024-08-04T22:18:45.383410900Z",
     "start_time": "2024-08-04T22:18:45.368076200Z"
    }
   },
   "id": "934ace431ae61dd9"
  },
  {
   "cell_type": "code",
   "execution_count": 8,
   "outputs": [
    {
     "name": "stdout",
     "output_type": "stream",
     "text": [
      "66601519-073-Evil_capitalist-vladkuznecov266\n"
     ]
    },
    {
     "name": "stderr",
     "output_type": "stream",
     "text": [
      "100%|██████████| 73/73 [00:06<00:00, 11.57it/s]\n"
     ]
    },
    {
     "name": "stdout",
     "output_type": "stream",
     "text": [
      "GIF successfully saved as '66601519-073-Evil_capitalist-vladkuznecov266.gif'\n"
     ]
    }
   ],
   "source": [
    "sgf_to_gif('./sgf/66601519-073-Evil_capitalist-vladkuznecov266.sgf')"
   ],
   "metadata": {
    "collapsed": false,
    "ExecuteTime": {
     "end_time": "2024-08-04T22:18:52.833201900Z",
     "start_time": "2024-08-04T22:18:45.381409600Z"
    }
   },
   "id": "f69d44a076bd45dc"
  },
  {
   "cell_type": "code",
   "execution_count": 9,
   "outputs": [
    {
     "name": "stdout",
     "output_type": "stream",
     "text": [
      "Ing-2023-1F-1\n"
     ]
    },
    {
     "name": "stderr",
     "output_type": "stream",
     "text": [
      "100%|██████████| 253/253 [01:31<00:00,  2.76it/s]\n"
     ]
    },
    {
     "name": "stdout",
     "output_type": "stream",
     "text": [
      "GIF successfully saved as 'Ing-2023-1F-1.gif'\n"
     ]
    }
   ],
   "source": [
    "    sgf_to_gif('./sgf/Ing-2023-1F-1.sgf')"
   ],
   "metadata": {
    "collapsed": false,
    "ExecuteTime": {
     "end_time": "2024-08-04T22:20:41.557518600Z",
     "start_time": "2024-08-04T22:18:52.834433500Z"
    }
   },
   "id": "b1a8ab3953d613b2"
  }
 ],
 "metadata": {
  "kernelspec": {
   "display_name": "Python 3",
   "language": "python",
   "name": "python3"
  },
  "language_info": {
   "codemirror_mode": {
    "name": "ipython",
    "version": 2
   },
   "file_extension": ".py",
   "mimetype": "text/x-python",
   "name": "python",
   "nbconvert_exporter": "python",
   "pygments_lexer": "ipython2",
   "version": "2.7.6"
  }
 },
 "nbformat": 4,
 "nbformat_minor": 5
}
